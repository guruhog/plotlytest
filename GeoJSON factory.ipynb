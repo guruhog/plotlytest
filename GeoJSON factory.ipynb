{
 "cells": [
  {
   "cell_type": "code",
   "execution_count": 2,
   "metadata": {
    "collapsed": false
   },
   "outputs": [],
   "source": [
    "import plotly.offline as py\n",
    "import plotly.graph_objs as graph_objs\n",
    "import pandas as pd\n",
    "import geopandas as gpd\n",
    "import numpy as np\n",
    "\n",
    "mapbox_access_token = \"pk.eyJ1IjoiamFja3AiLCJhIjoidGpzN0lXVSJ9.7YK6eRwUNFwd3ODZff6JvA\""
   ]
  },
  {
   "cell_type": "code",
   "execution_count": 29,
   "metadata": {
    "collapsed": false
   },
   "outputs": [
    {
     "name": "stderr",
     "output_type": "stream",
     "text": [
      "/Library/Frameworks/Python.framework/Versions/3.5/lib/python3.5/site-packages/ipykernel/__main__.py:2: ParserWarning:\n",
      "\n",
      "Falling back to the 'python' engine because the 'c' engine does not support regex separators (separators > 1 char and different from '\\s+' are interpreted as regex); you can avoid this warning by specifying engine='python'.\n",
      "\n"
     ]
    }
   ],
   "source": [
    "full_data_path = 'Compressed_Mortality_1999_2016.txt'\n",
    "df = pd.read_csv(full_data_path, sep = '\\t+', dtype = str)\n",
    "df = df.replace('Suppressed', np.nan, regex=True)"
   ]
  },
  {
   "cell_type": "code",
   "execution_count": 41,
   "metadata": {
    "collapsed": false
   },
   "outputs": [],
   "source": [
    "df['\"County Code\"'] = df['\"County Code\"'].apply(lambda x: x.strip('\"'))"
   ]
  },
  {
   "cell_type": "code",
   "execution_count": 207,
   "metadata": {
    "collapsed": false
   },
   "outputs": [
    {
     "data": {
      "text/html": [
       "<div>\n",
       "<style scoped>\n",
       "    .dataframe tbody tr th:only-of-type {\n",
       "        vertical-align: middle;\n",
       "    }\n",
       "\n",
       "    .dataframe tbody tr th {\n",
       "        vertical-align: top;\n",
       "    }\n",
       "\n",
       "    .dataframe thead th {\n",
       "        text-align: right;\n",
       "    }\n",
       "</style>\n",
       "<table border=\"1\" class=\"dataframe\">\n",
       "  <thead>\n",
       "    <tr style=\"text-align: right;\">\n",
       "      <th></th>\n",
       "      <th>\"County\"</th>\n",
       "      <th>\"County Code\"</th>\n",
       "      <th>\"Year\"</th>\n",
       "      <th>\"Year Code\"</th>\n",
       "      <th>Deaths</th>\n",
       "      <th>Population</th>\n",
       "      <th>Crude Rate</th>\n",
       "      <th>Crude Rate Lower 95% Confidence Interval</th>\n",
       "      <th>Crude Rate Upper 95% Confidence Interval</th>\n",
       "      <th>Age Adjusted Rate</th>\n",
       "      <th>Age Adjusted Rate Lower 95% Confidence Interval</th>\n",
       "      <th>Age Adjusted Rate Upper 95% Confidence Interval</th>\n",
       "    </tr>\n",
       "  </thead>\n",
       "  <tbody>\n",
       "    <tr>\n",
       "      <th>56641</th>\n",
       "      <td>\"Weston County, WY\"</td>\n",
       "      <td>56045</td>\n",
       "      <td>\"2012\"</td>\n",
       "      <td>\"2012\"</td>\n",
       "      <td>NaN</td>\n",
       "      <td>7065</td>\n",
       "      <td>NaN</td>\n",
       "      <td>NaN</td>\n",
       "      <td>NaN</td>\n",
       "      <td>NaN</td>\n",
       "      <td>NaN</td>\n",
       "      <td>NaN</td>\n",
       "    </tr>\n",
       "    <tr>\n",
       "      <th>56642</th>\n",
       "      <td>\"Weston County, WY\"</td>\n",
       "      <td>56045</td>\n",
       "      <td>\"2013\"</td>\n",
       "      <td>\"2013\"</td>\n",
       "      <td>NaN</td>\n",
       "      <td>7163</td>\n",
       "      <td>NaN</td>\n",
       "      <td>NaN</td>\n",
       "      <td>NaN</td>\n",
       "      <td>NaN</td>\n",
       "      <td>NaN</td>\n",
       "      <td>NaN</td>\n",
       "    </tr>\n",
       "    <tr>\n",
       "      <th>56643</th>\n",
       "      <td>\"Weston County, WY\"</td>\n",
       "      <td>56045</td>\n",
       "      <td>\"2014\"</td>\n",
       "      <td>\"2014\"</td>\n",
       "      <td>NaN</td>\n",
       "      <td>7179</td>\n",
       "      <td>NaN</td>\n",
       "      <td>NaN</td>\n",
       "      <td>NaN</td>\n",
       "      <td>NaN</td>\n",
       "      <td>NaN</td>\n",
       "      <td>NaN</td>\n",
       "    </tr>\n",
       "    <tr>\n",
       "      <th>56644</th>\n",
       "      <td>\"Weston County, WY\"</td>\n",
       "      <td>56045</td>\n",
       "      <td>\"2015\"</td>\n",
       "      <td>\"2015\"</td>\n",
       "      <td>NaN</td>\n",
       "      <td>7230</td>\n",
       "      <td>NaN</td>\n",
       "      <td>NaN</td>\n",
       "      <td>NaN</td>\n",
       "      <td>NaN</td>\n",
       "      <td>NaN</td>\n",
       "      <td>NaN</td>\n",
       "    </tr>\n",
       "    <tr>\n",
       "      <th>56645</th>\n",
       "      <td>\"Weston County, WY\"</td>\n",
       "      <td>56045</td>\n",
       "      <td>\"2016\"</td>\n",
       "      <td>\"2016\"</td>\n",
       "      <td>NaN</td>\n",
       "      <td>7236</td>\n",
       "      <td>NaN</td>\n",
       "      <td>NaN</td>\n",
       "      <td>NaN</td>\n",
       "      <td>NaN</td>\n",
       "      <td>NaN</td>\n",
       "      <td>NaN</td>\n",
       "    </tr>\n",
       "  </tbody>\n",
       "</table>\n",
       "</div>"
      ],
      "text/plain": [
       "                  \"County\" \"County Code\"  \"Year\" \"Year Code\" Deaths  \\\n",
       "56641  \"Weston County, WY\"         56045  \"2012\"      \"2012\"    NaN   \n",
       "56642  \"Weston County, WY\"         56045  \"2013\"      \"2013\"    NaN   \n",
       "56643  \"Weston County, WY\"         56045  \"2014\"      \"2014\"    NaN   \n",
       "56644  \"Weston County, WY\"         56045  \"2015\"      \"2015\"    NaN   \n",
       "56645  \"Weston County, WY\"         56045  \"2016\"      \"2016\"    NaN   \n",
       "\n",
       "      Population Crude Rate Crude Rate Lower 95% Confidence Interval  \\\n",
       "56641       7065        NaN                                      NaN   \n",
       "56642       7163        NaN                                      NaN   \n",
       "56643       7179        NaN                                      NaN   \n",
       "56644       7230        NaN                                      NaN   \n",
       "56645       7236        NaN                                      NaN   \n",
       "\n",
       "      Crude Rate Upper 95% Confidence Interval Age Adjusted Rate  \\\n",
       "56641                                      NaN               NaN   \n",
       "56642                                      NaN               NaN   \n",
       "56643                                      NaN               NaN   \n",
       "56644                                      NaN               NaN   \n",
       "56645                                      NaN               NaN   \n",
       "\n",
       "      Age Adjusted Rate Lower 95% Confidence Interval  \\\n",
       "56641                                             NaN   \n",
       "56642                                             NaN   \n",
       "56643                                             NaN   \n",
       "56644                                             NaN   \n",
       "56645                                             NaN   \n",
       "\n",
       "      Age Adjusted Rate Upper 95% Confidence Interval  \n",
       "56641                                             NaN  \n",
       "56642                                             NaN  \n",
       "56643                                             NaN  \n",
       "56644                                             NaN  \n",
       "56645                                             NaN  "
      ]
     },
     "execution_count": 207,
     "metadata": {},
     "output_type": "execute_result"
    }
   ],
   "source": [
    "df.tail()"
   ]
  },
  {
   "cell_type": "code",
   "execution_count": 194,
   "metadata": {
    "collapsed": true
   },
   "outputs": [],
   "source": [
    "df.to_csv('age_adjusted_death_rate.csv')"
   ]
  },
  {
   "cell_type": "code",
   "execution_count": 33,
   "metadata": {
    "collapsed": false
   },
   "outputs": [],
   "source": [
    "dfg = gpd.read_file('us-counties.json')"
   ]
  },
  {
   "cell_type": "code",
   "execution_count": 38,
   "metadata": {
    "collapsed": false
   },
   "outputs": [],
   "source": [
    "dfg['id'] = dfg['id'].apply(lambda x: x.zfill(5))"
   ]
  },
  {
   "cell_type": "code",
   "execution_count": 39,
   "metadata": {
    "collapsed": false
   },
   "outputs": [
    {
     "data": {
      "text/html": [
       "<div>\n",
       "<style scoped>\n",
       "    .dataframe tbody tr th:only-of-type {\n",
       "        vertical-align: middle;\n",
       "    }\n",
       "\n",
       "    .dataframe tbody tr th {\n",
       "        vertical-align: top;\n",
       "    }\n",
       "\n",
       "    .dataframe thead th {\n",
       "        text-align: right;\n",
       "    }\n",
       "</style>\n",
       "<table border=\"1\" class=\"dataframe\">\n",
       "  <thead>\n",
       "    <tr style=\"text-align: right;\">\n",
       "      <th></th>\n",
       "      <th>id</th>\n",
       "      <th>name</th>\n",
       "      <th>geometry</th>\n",
       "    </tr>\n",
       "  </thead>\n",
       "  <tbody>\n",
       "    <tr>\n",
       "      <th>0</th>\n",
       "      <td>01001</td>\n",
       "      <td>Autauga</td>\n",
       "      <td>POLYGON ((-86.41178600000001 32.706342, -86.41...</td>\n",
       "    </tr>\n",
       "    <tr>\n",
       "      <th>1</th>\n",
       "      <td>01003</td>\n",
       "      <td>Baldwin</td>\n",
       "      <td>POLYGON ((-87.76459 31.298768, -87.616713 31.2...</td>\n",
       "    </tr>\n",
       "    <tr>\n",
       "      <th>2</th>\n",
       "      <td>01005</td>\n",
       "      <td>Barbour</td>\n",
       "      <td>POLYGON ((-85.354736 32.147694, -85.053504 32....</td>\n",
       "    </tr>\n",
       "    <tr>\n",
       "      <th>3</th>\n",
       "      <td>01007</td>\n",
       "      <td>Bibb</td>\n",
       "      <td>POLYGON ((-87.063542 33.248559, -87.025203 33....</td>\n",
       "    </tr>\n",
       "    <tr>\n",
       "      <th>4</th>\n",
       "      <td>01009</td>\n",
       "      <td>Blount</td>\n",
       "      <td>POLYGON ((-86.488463 34.261793, -86.455601 34....</td>\n",
       "    </tr>\n",
       "  </tbody>\n",
       "</table>\n",
       "</div>"
      ],
      "text/plain": [
       "      id     name                                           geometry\n",
       "0  01001  Autauga  POLYGON ((-86.41178600000001 32.706342, -86.41...\n",
       "1  01003  Baldwin  POLYGON ((-87.76459 31.298768, -87.616713 31.2...\n",
       "2  01005  Barbour  POLYGON ((-85.354736 32.147694, -85.053504 32....\n",
       "3  01007     Bibb  POLYGON ((-87.063542 33.248559, -87.025203 33....\n",
       "4  01009   Blount  POLYGON ((-86.488463 34.261793, -86.455601 34...."
      ]
     },
     "execution_count": 39,
     "metadata": {},
     "output_type": "execute_result"
    }
   ],
   "source": [
    "dfg.head()"
   ]
  },
  {
   "cell_type": "code",
   "execution_count": 52,
   "metadata": {
    "collapsed": false
   },
   "outputs": [],
   "source": [
    "df2 = pd.read_csv('Drug_Poisoning_Mortality_by_County.csv')\n",
    "df2['FIPS'] = df2['FIPS'].apply(lambda x: str(x).zfill(5))"
   ]
  },
  {
   "cell_type": "code",
   "execution_count": 53,
   "metadata": {
    "collapsed": false
   },
   "outputs": [
    {
     "data": {
      "text/html": [
       "<div>\n",
       "<style scoped>\n",
       "    .dataframe tbody tr th:only-of-type {\n",
       "        vertical-align: middle;\n",
       "    }\n",
       "\n",
       "    .dataframe tbody tr th {\n",
       "        vertical-align: top;\n",
       "    }\n",
       "\n",
       "    .dataframe thead th {\n",
       "        text-align: right;\n",
       "    }\n",
       "</style>\n",
       "<table border=\"1\" class=\"dataframe\">\n",
       "  <thead>\n",
       "    <tr style=\"text-align: right;\">\n",
       "      <th></th>\n",
       "      <th>FIPS</th>\n",
       "      <th>Year</th>\n",
       "      <th>State</th>\n",
       "      <th>ST</th>\n",
       "      <th>FIPS State</th>\n",
       "      <th>County</th>\n",
       "      <th>Population</th>\n",
       "      <th>Estimated Age-adjusted Death Rate, 16 Categories (in ranges)</th>\n",
       "    </tr>\n",
       "  </thead>\n",
       "  <tbody>\n",
       "    <tr>\n",
       "      <th>0</th>\n",
       "      <td>01001</td>\n",
       "      <td>2015</td>\n",
       "      <td>Alabama</td>\n",
       "      <td>AL</td>\n",
       "      <td>1</td>\n",
       "      <td>Autauga County, AL</td>\n",
       "      <td>55347.0</td>\n",
       "      <td>10.1-12</td>\n",
       "    </tr>\n",
       "    <tr>\n",
       "      <th>1</th>\n",
       "      <td>01001</td>\n",
       "      <td>2002</td>\n",
       "      <td>Alabama</td>\n",
       "      <td>AL</td>\n",
       "      <td>1</td>\n",
       "      <td>Autauga County, AL</td>\n",
       "      <td>45909.0</td>\n",
       "      <td>4.1-6</td>\n",
       "    </tr>\n",
       "    <tr>\n",
       "      <th>2</th>\n",
       "      <td>01001</td>\n",
       "      <td>1999</td>\n",
       "      <td>Alabama</td>\n",
       "      <td>AL</td>\n",
       "      <td>1</td>\n",
       "      <td>Autauga County, AL</td>\n",
       "      <td>42963.0</td>\n",
       "      <td>2.1-4</td>\n",
       "    </tr>\n",
       "    <tr>\n",
       "      <th>3</th>\n",
       "      <td>01001</td>\n",
       "      <td>2007</td>\n",
       "      <td>Alabama</td>\n",
       "      <td>AL</td>\n",
       "      <td>1</td>\n",
       "      <td>Autauga County, AL</td>\n",
       "      <td>52405.0</td>\n",
       "      <td>6.1-8</td>\n",
       "    </tr>\n",
       "    <tr>\n",
       "      <th>4</th>\n",
       "      <td>01001</td>\n",
       "      <td>2010</td>\n",
       "      <td>Alabama</td>\n",
       "      <td>AL</td>\n",
       "      <td>1</td>\n",
       "      <td>Autauga County, AL</td>\n",
       "      <td>54660.0</td>\n",
       "      <td>8.1-10</td>\n",
       "    </tr>\n",
       "  </tbody>\n",
       "</table>\n",
       "</div>"
      ],
      "text/plain": [
       "    FIPS  Year    State  ST  FIPS State              County  Population  \\\n",
       "0  01001  2015  Alabama  AL           1  Autauga County, AL     55347.0   \n",
       "1  01001  2002  Alabama  AL           1  Autauga County, AL     45909.0   \n",
       "2  01001  1999  Alabama  AL           1  Autauga County, AL     42963.0   \n",
       "3  01001  2007  Alabama  AL           1  Autauga County, AL     52405.0   \n",
       "4  01001  2010  Alabama  AL           1  Autauga County, AL     54660.0   \n",
       "\n",
       "  Estimated Age-adjusted Death Rate, 16 Categories (in ranges)  \n",
       "0                                            10.1-12            \n",
       "1                                              4.1-6            \n",
       "2                                              2.1-4            \n",
       "3                                              6.1-8            \n",
       "4                                             8.1-10            "
      ]
     },
     "execution_count": 53,
     "metadata": {},
     "output_type": "execute_result"
    }
   ],
   "source": [
    "df2.head()"
   ]
  },
  {
   "cell_type": "code",
   "execution_count": 58,
   "metadata": {
    "collapsed": false
   },
   "outputs": [],
   "source": [
    "df_2015 = df2[(df2.Year == 2015)]"
   ]
  },
  {
   "cell_type": "code",
   "execution_count": 59,
   "metadata": {
    "collapsed": false
   },
   "outputs": [
    {
     "data": {
      "text/html": [
       "<div>\n",
       "<style scoped>\n",
       "    .dataframe tbody tr th:only-of-type {\n",
       "        vertical-align: middle;\n",
       "    }\n",
       "\n",
       "    .dataframe tbody tr th {\n",
       "        vertical-align: top;\n",
       "    }\n",
       "\n",
       "    .dataframe thead th {\n",
       "        text-align: right;\n",
       "    }\n",
       "</style>\n",
       "<table border=\"1\" class=\"dataframe\">\n",
       "  <thead>\n",
       "    <tr style=\"text-align: right;\">\n",
       "      <th></th>\n",
       "      <th>FIPS</th>\n",
       "      <th>Year</th>\n",
       "      <th>State</th>\n",
       "      <th>ST</th>\n",
       "      <th>FIPS State</th>\n",
       "      <th>County</th>\n",
       "      <th>Population</th>\n",
       "      <th>Estimated Age-adjusted Death Rate, 16 Categories (in ranges)</th>\n",
       "    </tr>\n",
       "  </thead>\n",
       "  <tbody>\n",
       "    <tr>\n",
       "      <th>0</th>\n",
       "      <td>01001</td>\n",
       "      <td>2015</td>\n",
       "      <td>Alabama</td>\n",
       "      <td>AL</td>\n",
       "      <td>1</td>\n",
       "      <td>Autauga County, AL</td>\n",
       "      <td>55347.0</td>\n",
       "      <td>10.1-12</td>\n",
       "    </tr>\n",
       "    <tr>\n",
       "      <th>24</th>\n",
       "      <td>01003</td>\n",
       "      <td>2015</td>\n",
       "      <td>Alabama</td>\n",
       "      <td>AL</td>\n",
       "      <td>1</td>\n",
       "      <td>Baldwin County, AL</td>\n",
       "      <td>203709.0</td>\n",
       "      <td>20.1-22</td>\n",
       "    </tr>\n",
       "    <tr>\n",
       "      <th>43</th>\n",
       "      <td>01005</td>\n",
       "      <td>2015</td>\n",
       "      <td>Alabama</td>\n",
       "      <td>AL</td>\n",
       "      <td>1</td>\n",
       "      <td>Barbour County, AL</td>\n",
       "      <td>26489.0</td>\n",
       "      <td>6.1-8</td>\n",
       "    </tr>\n",
       "    <tr>\n",
       "      <th>61</th>\n",
       "      <td>01007</td>\n",
       "      <td>2015</td>\n",
       "      <td>Alabama</td>\n",
       "      <td>AL</td>\n",
       "      <td>1</td>\n",
       "      <td>Bibb County, AL</td>\n",
       "      <td>22583.0</td>\n",
       "      <td>14.1-16</td>\n",
       "    </tr>\n",
       "    <tr>\n",
       "      <th>69</th>\n",
       "      <td>01009</td>\n",
       "      <td>2015</td>\n",
       "      <td>Alabama</td>\n",
       "      <td>AL</td>\n",
       "      <td>1</td>\n",
       "      <td>Blount County, AL</td>\n",
       "      <td>57673.0</td>\n",
       "      <td>16.1-18</td>\n",
       "    </tr>\n",
       "  </tbody>\n",
       "</table>\n",
       "</div>"
      ],
      "text/plain": [
       "     FIPS  Year    State  ST  FIPS State              County  Population  \\\n",
       "0   01001  2015  Alabama  AL           1  Autauga County, AL     55347.0   \n",
       "24  01003  2015  Alabama  AL           1  Baldwin County, AL    203709.0   \n",
       "43  01005  2015  Alabama  AL           1  Barbour County, AL     26489.0   \n",
       "61  01007  2015  Alabama  AL           1     Bibb County, AL     22583.0   \n",
       "69  01009  2015  Alabama  AL           1   Blount County, AL     57673.0   \n",
       "\n",
       "   Estimated Age-adjusted Death Rate, 16 Categories (in ranges)  \n",
       "0                                             10.1-12            \n",
       "24                                            20.1-22            \n",
       "43                                              6.1-8            \n",
       "61                                            14.1-16            \n",
       "69                                            16.1-18            "
      ]
     },
     "execution_count": 59,
     "metadata": {},
     "output_type": "execute_result"
    }
   ],
   "source": [
    "df_2015.head()"
   ]
  },
  {
   "cell_type": "code",
   "execution_count": 105,
   "metadata": {
    "collapsed": false
   },
   "outputs": [
    {
     "data": {
      "text/plain": [
       "[1999,\n",
       " 2000,\n",
       " 2001,\n",
       " 2002,\n",
       " 2003,\n",
       " 2004,\n",
       " 2005,\n",
       " 2006,\n",
       " 2007,\n",
       " 2008,\n",
       " 2009,\n",
       " 2010,\n",
       " 2011,\n",
       " 2012,\n",
       " 2013,\n",
       " 2014,\n",
       " 2015]"
      ]
     },
     "execution_count": 105,
     "metadata": {},
     "output_type": "execute_result"
    }
   ],
   "source": [
    "years = sorted(df2['Year'].unique().tolist())\n",
    "years"
   ]
  },
  {
   "cell_type": "code",
   "execution_count": 61,
   "metadata": {
    "collapsed": false
   },
   "outputs": [],
   "source": [
    "bins = df_2015['Estimated Age-adjusted Death Rate, 16 Categories (in ranges)'].unique()"
   ]
  },
  {
   "cell_type": "code",
   "execution_count": 111,
   "metadata": {
    "collapsed": false
   },
   "outputs": [
    {
     "name": "stdout",
     "output_type": "stream",
     "text": [
      "1999 10.1-12\n",
      "1999 20.1-22\n",
      "1999 6.1-8\n",
      "1999 14.1-16\n",
      "1999 16.1-18\n",
      "1999 8.1-10\n",
      "1999 12.1-14\n",
      "1999 18.1-20\n",
      "1999 22.1-24\n",
      "1999 26.1-28\n",
      "1999 24.1-26\n",
      "err\n",
      "1999 >30\n",
      "err\n",
      "1999 0-2\n",
      "1999 28.1-30\n",
      "err\n",
      "1999 4.1-6\n",
      "1999 2.1-4\n",
      "2000 10.1-12\n",
      "2000 20.1-22\n",
      "2000 6.1-8\n",
      "2000 14.1-16\n",
      "2000 16.1-18\n",
      "2000 8.1-10\n",
      "2000 12.1-14\n",
      "2000 18.1-20\n",
      "2000 22.1-24\n",
      "2000 26.1-28\n",
      "err\n",
      "2000 24.1-26\n",
      "err\n",
      "2000 >30\n",
      "err\n",
      "2000 0-2\n",
      "2000 28.1-30\n",
      "2000 4.1-6\n",
      "2000 2.1-4\n",
      "2001 10.1-12\n",
      "2001 20.1-22\n",
      "2001 6.1-8\n",
      "2001 14.1-16\n",
      "2001 16.1-18\n",
      "2001 8.1-10\n",
      "2001 12.1-14\n",
      "2001 18.1-20\n",
      "2001 22.1-24\n",
      "2001 26.1-28\n",
      "err\n",
      "2001 24.1-26\n",
      "2001 >30\n",
      "2001 0-2\n",
      "2001 28.1-30\n",
      "err\n",
      "2001 4.1-6\n",
      "2001 2.1-4\n",
      "2002 10.1-12\n",
      "2002 20.1-22\n",
      "2002 6.1-8\n",
      "2002 14.1-16\n",
      "2002 16.1-18\n",
      "2002 8.1-10\n",
      "2002 12.1-14\n",
      "2002 18.1-20\n",
      "2002 22.1-24\n",
      "2002 26.1-28\n",
      "2002 24.1-26\n",
      "2002 >30\n",
      "2002 0-2\n",
      "2002 28.1-30\n",
      "err\n",
      "2002 4.1-6\n",
      "2002 2.1-4\n",
      "2003 10.1-12\n",
      "2003 20.1-22\n",
      "2003 6.1-8\n",
      "2003 14.1-16\n",
      "2003 16.1-18\n",
      "2003 8.1-10\n",
      "2003 12.1-14\n",
      "2003 18.1-20\n",
      "2003 22.1-24\n",
      "2003 26.1-28\n",
      "2003 24.1-26\n",
      "2003 >30\n",
      "2003 0-2\n",
      "2003 28.1-30\n",
      "2003 4.1-6\n",
      "2003 2.1-4\n",
      "2004 10.1-12\n",
      "2004 20.1-22\n",
      "2004 6.1-8\n",
      "2004 14.1-16\n",
      "2004 16.1-18\n",
      "2004 8.1-10\n",
      "2004 12.1-14\n",
      "2004 18.1-20\n",
      "2004 22.1-24\n",
      "2004 26.1-28\n",
      "2004 24.1-26\n",
      "2004 >30\n",
      "2004 0-2\n",
      "2004 28.1-30\n",
      "2004 4.1-6\n",
      "2004 2.1-4\n",
      "2005 10.1-12\n",
      "2005 20.1-22\n",
      "2005 6.1-8\n",
      "2005 14.1-16\n",
      "2005 16.1-18\n",
      "2005 8.1-10\n",
      "2005 12.1-14\n",
      "2005 18.1-20\n",
      "2005 22.1-24\n",
      "2005 26.1-28\n",
      "2005 24.1-26\n",
      "2005 >30\n",
      "2005 0-2\n",
      "2005 28.1-30\n",
      "2005 4.1-6\n",
      "2005 2.1-4\n",
      "2006 10.1-12\n",
      "2006 20.1-22\n",
      "2006 6.1-8\n",
      "2006 14.1-16\n",
      "2006 16.1-18\n",
      "2006 8.1-10\n",
      "2006 12.1-14\n",
      "2006 18.1-20\n",
      "2006 22.1-24\n",
      "2006 26.1-28\n",
      "2006 24.1-26\n",
      "2006 >30\n",
      "2006 0-2\n",
      "2006 28.1-30\n",
      "2006 4.1-6\n",
      "2006 2.1-4\n",
      "2007 10.1-12\n",
      "2007 20.1-22\n",
      "2007 6.1-8\n",
      "2007 14.1-16\n",
      "2007 16.1-18\n",
      "2007 8.1-10\n",
      "2007 12.1-14\n",
      "2007 18.1-20\n",
      "2007 22.1-24\n",
      "2007 26.1-28\n",
      "2007 24.1-26\n",
      "2007 >30\n",
      "2007 0-2\n",
      "2007 28.1-30\n",
      "2007 4.1-6\n",
      "2007 2.1-4\n",
      "2008 10.1-12\n",
      "2008 20.1-22\n",
      "2008 6.1-8\n",
      "2008 14.1-16\n",
      "2008 16.1-18\n",
      "2008 8.1-10\n",
      "2008 12.1-14\n",
      "2008 18.1-20\n",
      "2008 22.1-24\n",
      "2008 26.1-28\n",
      "2008 24.1-26\n",
      "2008 >30\n",
      "2008 0-2\n",
      "2008 28.1-30\n",
      "2008 4.1-6\n",
      "2008 2.1-4\n",
      "2009 10.1-12\n",
      "2009 20.1-22\n",
      "2009 6.1-8\n",
      "2009 14.1-16\n",
      "2009 16.1-18\n",
      "2009 8.1-10\n",
      "2009 12.1-14\n",
      "2009 18.1-20\n",
      "2009 22.1-24\n",
      "2009 26.1-28\n",
      "2009 24.1-26\n",
      "2009 >30\n",
      "2009 0-2\n",
      "2009 28.1-30\n",
      "2009 4.1-6\n",
      "2009 2.1-4\n",
      "2010 10.1-12\n",
      "2010 20.1-22\n",
      "2010 6.1-8\n",
      "2010 14.1-16\n",
      "2010 16.1-18\n",
      "2010 8.1-10\n",
      "2010 12.1-14\n",
      "2010 18.1-20\n",
      "2010 22.1-24\n",
      "2010 26.1-28\n",
      "2010 24.1-26\n",
      "2010 >30\n",
      "2010 0-2\n",
      "2010 28.1-30\n",
      "2010 4.1-6\n",
      "2010 2.1-4\n",
      "2011 10.1-12\n",
      "2011 20.1-22\n",
      "2011 6.1-8\n",
      "2011 14.1-16\n",
      "2011 16.1-18\n",
      "2011 8.1-10\n",
      "2011 12.1-14\n",
      "2011 18.1-20\n",
      "2011 22.1-24\n",
      "2011 26.1-28\n",
      "2011 24.1-26\n",
      "2011 >30\n",
      "2011 0-2\n",
      "2011 28.1-30\n",
      "2011 4.1-6\n",
      "2011 2.1-4\n",
      "2012 10.1-12\n",
      "2012 20.1-22\n",
      "2012 6.1-8\n",
      "2012 14.1-16\n",
      "2012 16.1-18\n",
      "2012 8.1-10\n",
      "2012 12.1-14\n",
      "2012 18.1-20\n",
      "2012 22.1-24\n",
      "2012 26.1-28\n",
      "2012 24.1-26\n",
      "2012 >30\n",
      "2012 0-2\n",
      "2012 28.1-30\n",
      "2012 4.1-6\n",
      "2012 2.1-4\n",
      "2013 10.1-12\n",
      "2013 20.1-22\n",
      "2013 6.1-8\n",
      "2013 14.1-16\n",
      "2013 16.1-18\n",
      "2013 8.1-10\n",
      "2013 12.1-14\n",
      "2013 18.1-20\n",
      "2013 22.1-24\n",
      "2013 26.1-28\n",
      "2013 24.1-26\n",
      "2013 >30\n",
      "2013 0-2\n",
      "2013 28.1-30\n",
      "2013 4.1-6\n",
      "2013 2.1-4\n",
      "2014 10.1-12\n",
      "2014 20.1-22\n",
      "2014 6.1-8\n",
      "2014 14.1-16\n",
      "2014 16.1-18\n",
      "2014 8.1-10\n",
      "2014 12.1-14\n",
      "2014 18.1-20\n",
      "2014 22.1-24\n",
      "2014 26.1-28\n",
      "2014 24.1-26\n",
      "2014 >30\n",
      "2014 0-2\n",
      "2014 28.1-30\n",
      "2014 4.1-6\n",
      "2014 2.1-4\n",
      "2015 10.1-12\n",
      "2015 20.1-22\n",
      "2015 6.1-8\n",
      "2015 14.1-16\n",
      "2015 16.1-18\n",
      "2015 8.1-10\n",
      "2015 12.1-14\n",
      "2015 18.1-20\n",
      "2015 22.1-24\n",
      "2015 26.1-28\n",
      "2015 24.1-26\n",
      "2015 >30\n",
      "2015 0-2\n",
      "2015 28.1-30\n",
      "2015 4.1-6\n",
      "2015 2.1-4\n"
     ]
    }
   ],
   "source": [
    "for yr in years:\n",
    "    df_single_year = df2[(df2.Year == yr)]\n",
    "    merged = dfg.merge(df_single_year, right_on='FIPS', left_on='id' )\n",
    "    for bin in bins:\n",
    "        print(yr,bin)\n",
    "        geo_layer = merged[(merged['Estimated Age-adjusted Death Rate, 16 Categories (in ranges)'] == bin)] # geo\n",
    "        try:\n",
    "            geo_layer.to_file(\"{0}/{1}.geojson\".format(yr, bin), driver='GeoJSON')\n",
    "        except:\n",
    "            print('err')"
   ]
  },
  {
   "cell_type": "code",
   "execution_count": 70,
   "metadata": {
    "collapsed": true
   },
   "outputs": [],
   "source": [
    "merged = dfg.merge(df_2015, right_on='FIPS', left_on='id' )"
   ]
  },
  {
   "cell_type": "code",
   "execution_count": 71,
   "metadata": {
    "collapsed": false
   },
   "outputs": [
    {
     "data": {
      "text/plain": [
       "(geopandas.geodataframe.GeoDataFrame, geopandas.geodataframe.GeoDataFrame)"
      ]
     },
     "execution_count": 71,
     "metadata": {},
     "output_type": "execute_result"
    }
   ],
   "source": [
    "type(merged), type(dfg)"
   ]
  },
  {
   "cell_type": "code",
   "execution_count": 72,
   "metadata": {
    "collapsed": false
   },
   "outputs": [
    {
     "data": {
      "text/html": [
       "<div>\n",
       "<style scoped>\n",
       "    .dataframe tbody tr th:only-of-type {\n",
       "        vertical-align: middle;\n",
       "    }\n",
       "\n",
       "    .dataframe tbody tr th {\n",
       "        vertical-align: top;\n",
       "    }\n",
       "\n",
       "    .dataframe thead th {\n",
       "        text-align: right;\n",
       "    }\n",
       "</style>\n",
       "<table border=\"1\" class=\"dataframe\">\n",
       "  <thead>\n",
       "    <tr style=\"text-align: right;\">\n",
       "      <th></th>\n",
       "      <th>id</th>\n",
       "      <th>name</th>\n",
       "      <th>geometry</th>\n",
       "      <th>FIPS</th>\n",
       "      <th>Year</th>\n",
       "      <th>State</th>\n",
       "      <th>ST</th>\n",
       "      <th>FIPS State</th>\n",
       "      <th>County</th>\n",
       "      <th>Population</th>\n",
       "      <th>Estimated Age-adjusted Death Rate, 16 Categories (in ranges)</th>\n",
       "    </tr>\n",
       "  </thead>\n",
       "  <tbody>\n",
       "    <tr>\n",
       "      <th>0</th>\n",
       "      <td>01001</td>\n",
       "      <td>Autauga</td>\n",
       "      <td>POLYGON ((-86.41178600000001 32.706342, -86.41...</td>\n",
       "      <td>01001</td>\n",
       "      <td>2015</td>\n",
       "      <td>Alabama</td>\n",
       "      <td>AL</td>\n",
       "      <td>1</td>\n",
       "      <td>Autauga County, AL</td>\n",
       "      <td>55347.0</td>\n",
       "      <td>10.1-12</td>\n",
       "    </tr>\n",
       "    <tr>\n",
       "      <th>1</th>\n",
       "      <td>01003</td>\n",
       "      <td>Baldwin</td>\n",
       "      <td>POLYGON ((-87.76459 31.298768, -87.616713 31.2...</td>\n",
       "      <td>01003</td>\n",
       "      <td>2015</td>\n",
       "      <td>Alabama</td>\n",
       "      <td>AL</td>\n",
       "      <td>1</td>\n",
       "      <td>Baldwin County, AL</td>\n",
       "      <td>203709.0</td>\n",
       "      <td>20.1-22</td>\n",
       "    </tr>\n",
       "    <tr>\n",
       "      <th>2</th>\n",
       "      <td>01005</td>\n",
       "      <td>Barbour</td>\n",
       "      <td>POLYGON ((-85.354736 32.147694, -85.053504 32....</td>\n",
       "      <td>01005</td>\n",
       "      <td>2015</td>\n",
       "      <td>Alabama</td>\n",
       "      <td>AL</td>\n",
       "      <td>1</td>\n",
       "      <td>Barbour County, AL</td>\n",
       "      <td>26489.0</td>\n",
       "      <td>6.1-8</td>\n",
       "    </tr>\n",
       "    <tr>\n",
       "      <th>3</th>\n",
       "      <td>01007</td>\n",
       "      <td>Bibb</td>\n",
       "      <td>POLYGON ((-87.063542 33.248559, -87.025203 33....</td>\n",
       "      <td>01007</td>\n",
       "      <td>2015</td>\n",
       "      <td>Alabama</td>\n",
       "      <td>AL</td>\n",
       "      <td>1</td>\n",
       "      <td>Bibb County, AL</td>\n",
       "      <td>22583.0</td>\n",
       "      <td>14.1-16</td>\n",
       "    </tr>\n",
       "    <tr>\n",
       "      <th>4</th>\n",
       "      <td>01009</td>\n",
       "      <td>Blount</td>\n",
       "      <td>POLYGON ((-86.488463 34.261793, -86.455601 34....</td>\n",
       "      <td>01009</td>\n",
       "      <td>2015</td>\n",
       "      <td>Alabama</td>\n",
       "      <td>AL</td>\n",
       "      <td>1</td>\n",
       "      <td>Blount County, AL</td>\n",
       "      <td>57673.0</td>\n",
       "      <td>16.1-18</td>\n",
       "    </tr>\n",
       "  </tbody>\n",
       "</table>\n",
       "</div>"
      ],
      "text/plain": [
       "      id     name                                           geometry   FIPS  \\\n",
       "0  01001  Autauga  POLYGON ((-86.41178600000001 32.706342, -86.41...  01001   \n",
       "1  01003  Baldwin  POLYGON ((-87.76459 31.298768, -87.616713 31.2...  01003   \n",
       "2  01005  Barbour  POLYGON ((-85.354736 32.147694, -85.053504 32....  01005   \n",
       "3  01007     Bibb  POLYGON ((-87.063542 33.248559, -87.025203 33....  01007   \n",
       "4  01009   Blount  POLYGON ((-86.488463 34.261793, -86.455601 34....  01009   \n",
       "\n",
       "   Year    State  ST  FIPS State              County  Population  \\\n",
       "0  2015  Alabama  AL           1  Autauga County, AL     55347.0   \n",
       "1  2015  Alabama  AL           1  Baldwin County, AL    203709.0   \n",
       "2  2015  Alabama  AL           1  Barbour County, AL     26489.0   \n",
       "3  2015  Alabama  AL           1     Bibb County, AL     22583.0   \n",
       "4  2015  Alabama  AL           1   Blount County, AL     57673.0   \n",
       "\n",
       "  Estimated Age-adjusted Death Rate, 16 Categories (in ranges)  \n",
       "0                                            10.1-12            \n",
       "1                                            20.1-22            \n",
       "2                                              6.1-8            \n",
       "3                                            14.1-16            \n",
       "4                                            16.1-18            "
      ]
     },
     "execution_count": 72,
     "metadata": {},
     "output_type": "execute_result"
    }
   ],
   "source": [
    "merged.head()"
   ]
  },
  {
   "cell_type": "code",
   "execution_count": 73,
   "metadata": {
    "collapsed": false
   },
   "outputs": [],
   "source": [
    "for bin in bins:\n",
    "    geo_layer = merged[(merged['Estimated Age-adjusted Death Rate, 16 Categories (in ranges)'] == bin)] # geo\n",
    "    geo_layer.to_file(\"{0}.geojson\".format(bin), driver='GeoJSON')"
   ]
  },
  {
   "cell_type": "code",
   "execution_count": 16,
   "metadata": {
    "collapsed": false
   },
   "outputs": [],
   "source": [
    "data = graph_objs.Data([\n",
    "    graph_objs.Scattermapbox(\n",
    "        lat=['45.5017'],\n",
    "        lon=['-73.5673'],\n",
    "        mode='markers',        \n",
    "    )\n",
    "])\n",
    "\n",
    "layout = dict(\n",
    "    height=600,\n",
    "    autosize=True,\n",
    "    hovermode='closest',\n",
    "    margin=dict(t=0,r=0,l=0,b=0),\n",
    "    mapbox=dict(\n",
    "        layers=[\n",
    "            dict(\n",
    "                sourcetype = 'geojson',\n",
    "                source = 'https://raw.githubusercontent.com/python-visualization/folium/master/tests/us-counties.json',\n",
    "                type = 'fill',\n",
    "                color = 'rgba(163,22,19,0.8)'\n",
    "            )\n",
    "        ],\n",
    "        accesstoken=mapbox_access_token,\n",
    "        bearing=0,\n",
    "        center=dict(\n",
    "            lat=27.8,\n",
    "            lon=-83\n",
    "        ),\n",
    "        pitch=0,\n",
    "        zoom=5.2,\n",
    "        style='light'        \n",
    "    )\n",
    ")    \n",
    "\n",
    "fig = dict(data=data, layout=layout)"
   ]
  },
  {
   "cell_type": "code",
   "execution_count": 17,
   "metadata": {
    "collapsed": false,
    "scrolled": false
   },
   "outputs": [
    {
     "data": {
      "text/plain": [
       "'file:///Users/jackparmer/Documents/mapbox_counties/county-level-choropleths-python.html'"
      ]
     },
     "execution_count": 17,
     "metadata": {},
     "output_type": "execute_result"
    }
   ],
   "source": [
    "py.plot(fig, filename='county-level-choropleths-python.html')"
   ]
  },
  {
   "cell_type": "code",
   "execution_count": 198,
   "metadata": {
    "collapsed": false
   },
   "outputs": [
    {
     "name": "stderr",
     "output_type": "stream",
     "text": [
      "/Library/Frameworks/Python.framework/Versions/3.5/lib/python3.5/site-packages/ipykernel/__main__.py:1: ParserWarning:\n",
      "\n",
      "Falling back to the 'python' engine because the 'c' engine does not support regex separators (separators > 1 char and different from '\\s+' are interpreted as regex); you can avoid this warning by specifying engine='python'.\n",
      "\n"
     ]
    }
   ],
   "source": [
    "df_lat_lon = pd.read_csv('us_county_lat_lon.txt', sep = '\\t+', dtype = str, index_col = False)"
   ]
  },
  {
   "cell_type": "code",
   "execution_count": 200,
   "metadata": {
    "collapsed": false
   },
   "outputs": [],
   "source": [
    "df_lat_lon['FIPS '] = df_lat_lon['FIPS '].apply(lambda x: x.zfill(5))"
   ]
  },
  {
   "cell_type": "code",
   "execution_count": 201,
   "metadata": {
    "collapsed": false
   },
   "outputs": [],
   "source": [
    "df_lat_lon['Hover'] = df_lat_lon['County '] + '<br>' + df_lat_lon['State'] + '<br>' + df_lat_lon['FIPS ']"
   ]
  },
  {
   "cell_type": "code",
   "execution_count": 202,
   "metadata": {
    "collapsed": false
   },
   "outputs": [
    {
     "data": {
      "text/html": [
       "<div>\n",
       "<style scoped>\n",
       "    .dataframe tbody tr th:only-of-type {\n",
       "        vertical-align: middle;\n",
       "    }\n",
       "\n",
       "    .dataframe tbody tr th {\n",
       "        vertical-align: top;\n",
       "    }\n",
       "\n",
       "    .dataframe thead th {\n",
       "        text-align: right;\n",
       "    }\n",
       "</style>\n",
       "<table border=\"1\" class=\"dataframe\">\n",
       "  <thead>\n",
       "    <tr style=\"text-align: right;\">\n",
       "      <th></th>\n",
       "      <th>Sort</th>\n",
       "      <th>State</th>\n",
       "      <th>FIPS</th>\n",
       "      <th>County</th>\n",
       "      <th>CountySeat(s)</th>\n",
       "      <th>Population(2010)</th>\n",
       "      <th>LandAreakm2</th>\n",
       "      <th>LandAreami2</th>\n",
       "      <th>WaterAreakm2</th>\n",
       "      <th>WaterAreami2</th>\n",
       "      <th>TotalAreakm2</th>\n",
       "      <th>TotalAreami2</th>\n",
       "      <th>Latitude</th>\n",
       "      <th>Longitude</th>\n",
       "      <th>Hover</th>\n",
       "    </tr>\n",
       "  </thead>\n",
       "  <tbody>\n",
       "    <tr>\n",
       "      <th>0</th>\n",
       "      <td>1</td>\n",
       "      <td>AL</td>\n",
       "      <td>01001</td>\n",
       "      <td>Autauga</td>\n",
       "      <td>Prattville</td>\n",
       "      <td>54,571</td>\n",
       "      <td>1,539.582</td>\n",
       "      <td>594.436</td>\n",
       "      <td>25.776</td>\n",
       "      <td>9.952</td>\n",
       "      <td>1,565.358</td>\n",
       "      <td>604.388</td>\n",
       "      <td>32.536382</td>\n",
       "      <td>-86.644490</td>\n",
       "      <td>Autauga&lt;br&gt;AL&lt;br&gt;01001</td>\n",
       "    </tr>\n",
       "    <tr>\n",
       "      <th>1</th>\n",
       "      <td>2</td>\n",
       "      <td>AL</td>\n",
       "      <td>01003</td>\n",
       "      <td>Baldwin</td>\n",
       "      <td>Bay Minette</td>\n",
       "      <td>182,265</td>\n",
       "      <td>4,117.522</td>\n",
       "      <td>1,589.784</td>\n",
       "      <td>1,133.190</td>\n",
       "      <td>437.527</td>\n",
       "      <td>5,250.712</td>\n",
       "      <td>2,027.311</td>\n",
       "      <td>30.659218</td>\n",
       "      <td>-87.746067</td>\n",
       "      <td>Baldwin&lt;br&gt;AL&lt;br&gt;01003</td>\n",
       "    </tr>\n",
       "    <tr>\n",
       "      <th>2</th>\n",
       "      <td>3</td>\n",
       "      <td>AL</td>\n",
       "      <td>01005</td>\n",
       "      <td>Barbour</td>\n",
       "      <td>Clayton</td>\n",
       "      <td>27,457</td>\n",
       "      <td>2,291.819</td>\n",
       "      <td>884.876</td>\n",
       "      <td>50.865</td>\n",
       "      <td>19.639</td>\n",
       "      <td>2,342.684</td>\n",
       "      <td>904.515</td>\n",
       "      <td>31.870670</td>\n",
       "      <td>-85.405456</td>\n",
       "      <td>Barbour&lt;br&gt;AL&lt;br&gt;01005</td>\n",
       "    </tr>\n",
       "    <tr>\n",
       "      <th>3</th>\n",
       "      <td>4</td>\n",
       "      <td>AL</td>\n",
       "      <td>01007</td>\n",
       "      <td>Bibb</td>\n",
       "      <td>Centreville</td>\n",
       "      <td>22,915</td>\n",
       "      <td>1,612.481</td>\n",
       "      <td>622.582</td>\n",
       "      <td>9.289</td>\n",
       "      <td>3.587</td>\n",
       "      <td>1,621.770</td>\n",
       "      <td>626.169</td>\n",
       "      <td>33.015893</td>\n",
       "      <td>-87.127148</td>\n",
       "      <td>Bibb&lt;br&gt;AL&lt;br&gt;01007</td>\n",
       "    </tr>\n",
       "    <tr>\n",
       "      <th>4</th>\n",
       "      <td>5</td>\n",
       "      <td>AL</td>\n",
       "      <td>01009</td>\n",
       "      <td>Blount</td>\n",
       "      <td>Oneonta</td>\n",
       "      <td>57,322</td>\n",
       "      <td>1,669.962</td>\n",
       "      <td>644.776</td>\n",
       "      <td>15.157</td>\n",
       "      <td>5.852</td>\n",
       "      <td>1,685.119</td>\n",
       "      <td>650.628</td>\n",
       "      <td>33.977448</td>\n",
       "      <td>-86.567246</td>\n",
       "      <td>Blount&lt;br&gt;AL&lt;br&gt;01009</td>\n",
       "    </tr>\n",
       "  </tbody>\n",
       "</table>\n",
       "</div>"
      ],
      "text/plain": [
       "  Sort  State  FIPS   County  CountySeat(s)  Population(2010) LandAreakm2   \\\n",
       "0     1    AL  01001  Autauga     Prattville           54,571    1,539.582   \n",
       "1     2    AL  01003  Baldwin    Bay Minette          182,265    4,117.522   \n",
       "2     3    AL  01005  Barbour        Clayton           27,457    2,291.819   \n",
       "3     4    AL  01007     Bibb    Centreville           22,915    1,612.481   \n",
       "4     5    AL  01009   Blount        Oneonta           57,322    1,669.962   \n",
       "\n",
       "  LandAreami2  WaterAreakm2  WaterAreami2  TotalAreakm2  TotalAreami2   \\\n",
       "0      594.436        25.776         9.952     1,565.358       604.388   \n",
       "1    1,589.784     1,133.190       437.527     5,250.712     2,027.311   \n",
       "2      884.876        50.865        19.639     2,342.684       904.515   \n",
       "3      622.582         9.289         3.587     1,621.770       626.169   \n",
       "4      644.776        15.157         5.852     1,685.119       650.628   \n",
       "\n",
       "   Latitude    Longitude                   Hover  \n",
       "0  32.536382  -86.644490  Autauga<br>AL<br>01001  \n",
       "1  30.659218  -87.746067  Baldwin<br>AL<br>01003  \n",
       "2  31.870670  -85.405456  Barbour<br>AL<br>01005  \n",
       "3  33.015893  -87.127148     Bibb<br>AL<br>01007  \n",
       "4  33.977448  -86.567246   Blount<br>AL<br>01009  "
      ]
     },
     "execution_count": 202,
     "metadata": {},
     "output_type": "execute_result"
    }
   ],
   "source": [
    "df_lat_lon.head()"
   ]
  },
  {
   "cell_type": "code",
   "execution_count": 203,
   "metadata": {
    "collapsed": true
   },
   "outputs": [],
   "source": [
    "df_lat_lon.to_csv('lat_lon_counties.csv')"
   ]
  },
  {
   "cell_type": "code",
   "execution_count": 204,
   "metadata": {
    "collapsed": true
   },
   "outputs": [],
   "source": [
    "csv = pd.read_csv('lat_lon_counties.csv')"
   ]
  },
  {
   "cell_type": "code",
   "execution_count": 205,
   "metadata": {
    "collapsed": false
   },
   "outputs": [
    {
     "data": {
      "text/html": [
       "<div>\n",
       "<style scoped>\n",
       "    .dataframe tbody tr th:only-of-type {\n",
       "        vertical-align: middle;\n",
       "    }\n",
       "\n",
       "    .dataframe tbody tr th {\n",
       "        vertical-align: top;\n",
       "    }\n",
       "\n",
       "    .dataframe thead th {\n",
       "        text-align: right;\n",
       "    }\n",
       "</style>\n",
       "<table border=\"1\" class=\"dataframe\">\n",
       "  <thead>\n",
       "    <tr style=\"text-align: right;\">\n",
       "      <th></th>\n",
       "      <th>Unnamed: 0</th>\n",
       "      <th>Sort</th>\n",
       "      <th>State</th>\n",
       "      <th>FIPS</th>\n",
       "      <th>County</th>\n",
       "      <th>CountySeat(s)</th>\n",
       "      <th>Population(2010)</th>\n",
       "      <th>LandAreakm2</th>\n",
       "      <th>LandAreami2</th>\n",
       "      <th>WaterAreakm2</th>\n",
       "      <th>WaterAreami2</th>\n",
       "      <th>TotalAreakm2</th>\n",
       "      <th>TotalAreami2</th>\n",
       "      <th>Latitude</th>\n",
       "      <th>Longitude</th>\n",
       "      <th>Hover</th>\n",
       "    </tr>\n",
       "  </thead>\n",
       "  <tbody>\n",
       "    <tr>\n",
       "      <th>0</th>\n",
       "      <td>0</td>\n",
       "      <td>1</td>\n",
       "      <td>AL</td>\n",
       "      <td>1001</td>\n",
       "      <td>Autauga</td>\n",
       "      <td>Prattville</td>\n",
       "      <td>54,571</td>\n",
       "      <td>1,539.582</td>\n",
       "      <td>594.436</td>\n",
       "      <td>25.776</td>\n",
       "      <td>9.952</td>\n",
       "      <td>1,565.358</td>\n",
       "      <td>604.388</td>\n",
       "      <td>32.536382</td>\n",
       "      <td>-86.644490</td>\n",
       "      <td>Autauga&lt;br&gt;AL&lt;br&gt;01001</td>\n",
       "    </tr>\n",
       "    <tr>\n",
       "      <th>1</th>\n",
       "      <td>1</td>\n",
       "      <td>2</td>\n",
       "      <td>AL</td>\n",
       "      <td>1003</td>\n",
       "      <td>Baldwin</td>\n",
       "      <td>Bay Minette</td>\n",
       "      <td>182,265</td>\n",
       "      <td>4,117.522</td>\n",
       "      <td>1,589.784</td>\n",
       "      <td>1,133.190</td>\n",
       "      <td>437.527</td>\n",
       "      <td>5,250.712</td>\n",
       "      <td>2,027.311</td>\n",
       "      <td>30.659218</td>\n",
       "      <td>-87.746067</td>\n",
       "      <td>Baldwin&lt;br&gt;AL&lt;br&gt;01003</td>\n",
       "    </tr>\n",
       "    <tr>\n",
       "      <th>2</th>\n",
       "      <td>2</td>\n",
       "      <td>3</td>\n",
       "      <td>AL</td>\n",
       "      <td>1005</td>\n",
       "      <td>Barbour</td>\n",
       "      <td>Clayton</td>\n",
       "      <td>27,457</td>\n",
       "      <td>2,291.819</td>\n",
       "      <td>884.876</td>\n",
       "      <td>50.865</td>\n",
       "      <td>19.639</td>\n",
       "      <td>2,342.684</td>\n",
       "      <td>904.515</td>\n",
       "      <td>31.870670</td>\n",
       "      <td>-85.405456</td>\n",
       "      <td>Barbour&lt;br&gt;AL&lt;br&gt;01005</td>\n",
       "    </tr>\n",
       "    <tr>\n",
       "      <th>3</th>\n",
       "      <td>3</td>\n",
       "      <td>4</td>\n",
       "      <td>AL</td>\n",
       "      <td>1007</td>\n",
       "      <td>Bibb</td>\n",
       "      <td>Centreville</td>\n",
       "      <td>22,915</td>\n",
       "      <td>1,612.481</td>\n",
       "      <td>622.582</td>\n",
       "      <td>9.289</td>\n",
       "      <td>3.587</td>\n",
       "      <td>1,621.770</td>\n",
       "      <td>626.169</td>\n",
       "      <td>33.015893</td>\n",
       "      <td>-87.127148</td>\n",
       "      <td>Bibb&lt;br&gt;AL&lt;br&gt;01007</td>\n",
       "    </tr>\n",
       "    <tr>\n",
       "      <th>4</th>\n",
       "      <td>4</td>\n",
       "      <td>5</td>\n",
       "      <td>AL</td>\n",
       "      <td>1009</td>\n",
       "      <td>Blount</td>\n",
       "      <td>Oneonta</td>\n",
       "      <td>57,322</td>\n",
       "      <td>1,669.962</td>\n",
       "      <td>644.776</td>\n",
       "      <td>15.157</td>\n",
       "      <td>5.852</td>\n",
       "      <td>1,685.119</td>\n",
       "      <td>650.628</td>\n",
       "      <td>33.977448</td>\n",
       "      <td>-86.567246</td>\n",
       "      <td>Blount&lt;br&gt;AL&lt;br&gt;01009</td>\n",
       "    </tr>\n",
       "  </tbody>\n",
       "</table>\n",
       "</div>"
      ],
      "text/plain": [
       "   Unnamed: 0  Sort  State  FIPS   County  CountySeat(s)  Population(2010)  \\\n",
       "0           0      1    AL   1001  Autauga     Prattville           54,571   \n",
       "1           1      2    AL   1003  Baldwin    Bay Minette          182,265   \n",
       "2           2      3    AL   1005  Barbour        Clayton           27,457   \n",
       "3           3      4    AL   1007     Bibb    Centreville           22,915   \n",
       "4           4      5    AL   1009   Blount        Oneonta           57,322   \n",
       "\n",
       "  LandAreakm2  LandAreami2  WaterAreakm2  WaterAreami2  TotalAreakm2   \\\n",
       "0    1,539.582      594.436        25.776         9.952     1,565.358   \n",
       "1    4,117.522    1,589.784     1,133.190       437.527     5,250.712   \n",
       "2    2,291.819      884.876        50.865        19.639     2,342.684   \n",
       "3    1,612.481      622.582         9.289         3.587     1,621.770   \n",
       "4    1,669.962      644.776        15.157         5.852     1,685.119   \n",
       "\n",
       "  TotalAreami2   Latitude   Longitude                   Hover  \n",
       "0       604.388  32.536382 -86.644490  Autauga<br>AL<br>01001  \n",
       "1     2,027.311  30.659218 -87.746067  Baldwin<br>AL<br>01003  \n",
       "2       904.515  31.870670 -85.405456  Barbour<br>AL<br>01005  \n",
       "3       626.169  33.015893 -87.127148     Bibb<br>AL<br>01007  \n",
       "4       650.628  33.977448 -86.567246   Blount<br>AL<br>01009  "
      ]
     },
     "execution_count": 205,
     "metadata": {},
     "output_type": "execute_result"
    }
   ],
   "source": [
    "csv.head()"
   ]
  },
  {
   "cell_type": "code",
   "execution_count": null,
   "metadata": {
    "collapsed": true
   },
   "outputs": [],
   "source": []
  },
  {
   "cell_type": "code",
   "execution_count": null,
   "metadata": {
    "collapsed": true
   },
   "outputs": [],
   "source": []
  },
  {
   "cell_type": "code",
   "execution_count": 112,
   "metadata": {
    "collapsed": false
   },
   "outputs": [
    {
     "data": {
      "text/plain": [
       "16"
      ]
     },
     "execution_count": 112,
     "metadata": {},
     "output_type": "execute_result"
    }
   ],
   "source": [
    "len(bins)"
   ]
  },
  {
   "cell_type": "code",
   "execution_count": 112,
   "metadata": {
    "collapsed": false
   },
   "outputs": [
    {
     "data": {
      "text/plain": [
       "16"
      ]
     },
     "execution_count": 112,
     "metadata": {},
     "output_type": "execute_result"
    }
   ],
   "source": [
    "len(bins)"
   ]
  },
  {
   "cell_type": "code",
   "execution_count": 113,
   "metadata": {
    "collapsed": true
   },
   "outputs": [],
   "source": [
    "cs = [\"#171c42\",\"#24327a\",\"#214ea5\",\"#006fbe\",\"#3f8eba\",\"#76a9be\",\"#aac3cd\",\"#d2d7dd\",\\\n",
    "      \"#e6d2d2\",\"#ddb2a4\",\"#d08b73\",\"#c26245\",\"#b1392a\",\"#911a28\",\"#670d22\",\"#3c0911\"]"
   ]
  },
  {
   "cell_type": "code",
   "execution_count": 127,
   "metadata": {
    "collapsed": false
   },
   "outputs": [
    {
     "data": {
      "text/plain": [
       "{'0-2': '#b1392a',\n",
       " '10.1-12': '#171c42',\n",
       " '12.1-14': '#aac3cd',\n",
       " '14.1-16': '#006fbe',\n",
       " '16.1-18': '#3f8eba',\n",
       " '18.1-20': '#d2d7dd',\n",
       " '2.1-4': '#3c0911',\n",
       " '20.1-22': '#24327a',\n",
       " '22.1-24': '#e6d2d2',\n",
       " '24.1-26': '#d08b73',\n",
       " '26.1-28': '#ddb2a4',\n",
       " '28.1-30': '#911a28',\n",
       " '4.1-6': '#670d22',\n",
       " '6.1-8': '#214ea5',\n",
       " '8.1-10': '#76a9be',\n",
       " '>30': '#c26245'}"
      ]
     },
     "execution_count": 127,
     "metadata": {},
     "output_type": "execute_result"
    }
   ],
   "source": [
    "cm = dict(zip(bins, cs))\n",
    "cm"
   ]
  },
  {
   "cell_type": "code",
   "execution_count": 177,
   "metadata": {
    "collapsed": false
   },
   "outputs": [
    {
     "data": {
      "text/plain": [
       "['10.1-12',\n",
       " '20.1-22',\n",
       " '6.1-8',\n",
       " '14.1-16',\n",
       " '16.1-18',\n",
       " '8.1-10',\n",
       " '12.1-14',\n",
       " '18.1-20',\n",
       " '22.1-24',\n",
       " '26.1-28',\n",
       " '24.1-26',\n",
       " '>30',\n",
       " '0-2',\n",
       " '28.1-30',\n",
       " '4.1-6',\n",
       " '2.1-4']"
      ]
     },
     "execution_count": 177,
     "metadata": {},
     "output_type": "execute_result"
    }
   ],
   "source": [
    "list(bins)"
   ]
  },
  {
   "cell_type": "code",
   "execution_count": 183,
   "metadata": {
    "collapsed": false
   },
   "outputs": [
    {
     "data": {
      "text/plain": [
       "Index(['Sort ', 'State', 'FIPS ', 'County ', 'CountySeat(s) ',\n",
       "       'Population(2010)', 'LandAreakm2 ', 'LandAreami2 ', 'WaterAreakm2 ',\n",
       "       'WaterAreami2 ', 'TotalAreakm2 ', 'TotalAreami2 ', 'Latitude ',\n",
       "       'Longitude'],\n",
       "      dtype='object')"
      ]
     },
     "execution_count": 183,
     "metadata": {},
     "output_type": "execute_result"
    }
   ],
   "source": [
    "df_lat_lon.columns"
   ]
  },
  {
   "cell_type": "code",
   "execution_count": 170,
   "metadata": {
    "collapsed": false
   },
   "outputs": [],
   "source": [
    "data = [dict(\n",
    "    lat = df_lat_lon['Latitude '],\n",
    "    lon = df_lat_lon['Longitude'],\n",
    "    text = df_lat_lon['Hover'],\n",
    "    marker = dict(size=3),\n",
    "    opacity = 0,\n",
    "    type = 'scattermapbox',    \n",
    ")]"
   ]
  },
  {
   "cell_type": "code",
   "execution_count": 171,
   "metadata": {
    "collapsed": false
   },
   "outputs": [],
   "source": [
    "layout = dict(\n",
    "    mapbox = dict(\n",
    "        layers = [],\n",
    "        accesstoken = mapbox_access_token,\n",
    "        style = 'light',   \n",
    "        center=dict(\n",
    "            lat=38.72490,\n",
    "            lon=-95.61446,\n",
    "        ),\n",
    "        pitch=0,\n",
    "        zoom=3.4,        \n",
    "    ),\n",
    "    hovermode = 'closest',\n",
    "    margin = dict(r=0, l=0, t=0, b=0)\n",
    ")"
   ]
  },
  {
   "cell_type": "code",
   "execution_count": 172,
   "metadata": {
    "collapsed": false
   },
   "outputs": [],
   "source": [
    "base_url = 'https://raw.githubusercontent.com/jackparmer/mapbox-counties/master/'\n",
    "year = '2005'\n",
    "for bin in bins:\n",
    "    geo_layer = dict(\n",
    "        sourcetype = 'geojson',\n",
    "        source = base_url + year + '/' + bin + '.geojson',\n",
    "        type = 'fill',\n",
    "        color = cm[bin],\n",
    "        opacity = 0.5\n",
    "    )\n",
    "    layout['mapbox']['layers'].append(geo_layer)"
   ]
  },
  {
   "cell_type": "code",
   "execution_count": 173,
   "metadata": {
    "collapsed": false
   },
   "outputs": [
    {
     "data": {
      "text/plain": [
       "'file:///Users/jackparmer/Documents/mapbox_counties/mapbox-counties-test.html'"
      ]
     },
     "execution_count": 173,
     "metadata": {},
     "output_type": "execute_result"
    }
   ],
   "source": [
    "fig = dict(data=data, layout=layout)\n",
    "py.plot(fig, filename='mapbox-counties-test.html')"
   ]
  },
  {
   "cell_type": "code",
   "execution_count": 174,
   "metadata": {
    "collapsed": false
   },
   "outputs": [
    {
     "data": {
      "text/plain": [
       "[1999,\n",
       " 2000,\n",
       " 2001,\n",
       " 2002,\n",
       " 2003,\n",
       " 2004,\n",
       " 2005,\n",
       " 2006,\n",
       " 2007,\n",
       " 2008,\n",
       " 2009,\n",
       " 2010,\n",
       " 2011,\n",
       " 2012,\n",
       " 2013,\n",
       " 2014,\n",
       " 2015]"
      ]
     },
     "execution_count": 174,
     "metadata": {},
     "output_type": "execute_result"
    }
   ],
   "source": [
    "years"
   ]
  },
  {
   "cell_type": "code",
   "execution_count": 5,
   "metadata": {
    "collapsed": true
   },
   "outputs": [],
   "source": [
    "df_full_data = pd.read_csv('age_adjusted_death_rate.csv')"
   ]
  },
  {
   "cell_type": "code",
   "execution_count": 215,
   "metadata": {
    "collapsed": false,
    "scrolled": false
   },
   "outputs": [
    {
     "data": {
      "text/plain": [
       "Index(['Unnamed: 0', '\"County\"', '\"County Code\"', '\"Year\"', '\"Year Code\"',\n",
       "       'Deaths', 'Population', 'Crude Rate',\n",
       "       'Crude Rate Lower 95% Confidence Interval',\n",
       "       'Crude Rate Upper 95% Confidence Interval', 'Age Adjusted Rate',\n",
       "       'Age Adjusted Rate Lower 95% Confidence Interval',\n",
       "       'Age Adjusted Rate Upper 95% Confidence Interval'],\n",
       "      dtype='object')"
      ]
     },
     "execution_count": 215,
     "metadata": {},
     "output_type": "execute_result"
    }
   ],
   "source": [
    "df_full_data.columns"
   ]
  },
  {
   "cell_type": "code",
   "execution_count": 6,
   "metadata": {
    "collapsed": false
   },
   "outputs": [
    {
     "data": {
      "text/html": [
       "<div>\n",
       "<style scoped>\n",
       "    .dataframe tbody tr th:only-of-type {\n",
       "        vertical-align: middle;\n",
       "    }\n",
       "\n",
       "    .dataframe tbody tr th {\n",
       "        vertical-align: top;\n",
       "    }\n",
       "\n",
       "    .dataframe thead th {\n",
       "        text-align: right;\n",
       "    }\n",
       "</style>\n",
       "<table border=\"1\" class=\"dataframe\">\n",
       "  <thead>\n",
       "    <tr style=\"text-align: right;\">\n",
       "      <th></th>\n",
       "      <th>Unnamed: 0</th>\n",
       "      <th>\"County\"</th>\n",
       "      <th>\"County Code\"</th>\n",
       "      <th>\"Year\"</th>\n",
       "      <th>\"Year Code\"</th>\n",
       "      <th>Deaths</th>\n",
       "      <th>Population</th>\n",
       "      <th>Crude Rate</th>\n",
       "      <th>Crude Rate Lower 95% Confidence Interval</th>\n",
       "      <th>Crude Rate Upper 95% Confidence Interval</th>\n",
       "      <th>Age Adjusted Rate</th>\n",
       "      <th>Age Adjusted Rate Lower 95% Confidence Interval</th>\n",
       "      <th>Age Adjusted Rate Upper 95% Confidence Interval</th>\n",
       "    </tr>\n",
       "  </thead>\n",
       "  <tbody>\n",
       "    <tr>\n",
       "      <th>0</th>\n",
       "      <td>0</td>\n",
       "      <td>\"Autauga County, AL\"</td>\n",
       "      <td>1001</td>\n",
       "      <td>\"1999\"</td>\n",
       "      <td>\"1999\"</td>\n",
       "      <td>NaN</td>\n",
       "      <td>42963</td>\n",
       "      <td>NaN</td>\n",
       "      <td>NaN</td>\n",
       "      <td>NaN</td>\n",
       "      <td>NaN</td>\n",
       "      <td>NaN</td>\n",
       "      <td>NaN</td>\n",
       "    </tr>\n",
       "    <tr>\n",
       "      <th>1</th>\n",
       "      <td>1</td>\n",
       "      <td>\"Autauga County, AL\"</td>\n",
       "      <td>1001</td>\n",
       "      <td>\"2000\"</td>\n",
       "      <td>\"2000\"</td>\n",
       "      <td>NaN</td>\n",
       "      <td>43671</td>\n",
       "      <td>NaN</td>\n",
       "      <td>NaN</td>\n",
       "      <td>NaN</td>\n",
       "      <td>NaN</td>\n",
       "      <td>NaN</td>\n",
       "      <td>NaN</td>\n",
       "    </tr>\n",
       "    <tr>\n",
       "      <th>2</th>\n",
       "      <td>2</td>\n",
       "      <td>\"Autauga County, AL\"</td>\n",
       "      <td>1001</td>\n",
       "      <td>\"2001\"</td>\n",
       "      <td>\"2001\"</td>\n",
       "      <td>NaN</td>\n",
       "      <td>44889</td>\n",
       "      <td>NaN</td>\n",
       "      <td>NaN</td>\n",
       "      <td>NaN</td>\n",
       "      <td>NaN</td>\n",
       "      <td>NaN</td>\n",
       "      <td>NaN</td>\n",
       "    </tr>\n",
       "    <tr>\n",
       "      <th>3</th>\n",
       "      <td>3</td>\n",
       "      <td>\"Autauga County, AL\"</td>\n",
       "      <td>1001</td>\n",
       "      <td>\"2002\"</td>\n",
       "      <td>\"2002\"</td>\n",
       "      <td>NaN</td>\n",
       "      <td>45909</td>\n",
       "      <td>NaN</td>\n",
       "      <td>NaN</td>\n",
       "      <td>NaN</td>\n",
       "      <td>NaN</td>\n",
       "      <td>NaN</td>\n",
       "      <td>NaN</td>\n",
       "    </tr>\n",
       "    <tr>\n",
       "      <th>4</th>\n",
       "      <td>4</td>\n",
       "      <td>\"Autauga County, AL\"</td>\n",
       "      <td>1001</td>\n",
       "      <td>\"2003\"</td>\n",
       "      <td>\"2003\"</td>\n",
       "      <td>NaN</td>\n",
       "      <td>46800</td>\n",
       "      <td>NaN</td>\n",
       "      <td>NaN</td>\n",
       "      <td>NaN</td>\n",
       "      <td>NaN</td>\n",
       "      <td>NaN</td>\n",
       "      <td>NaN</td>\n",
       "    </tr>\n",
       "  </tbody>\n",
       "</table>\n",
       "</div>"
      ],
      "text/plain": [
       "   Unnamed: 0              \"County\"  \"County Code\"  \"Year\" \"Year Code\" Deaths  \\\n",
       "0           0  \"Autauga County, AL\"           1001  \"1999\"      \"1999\"    NaN   \n",
       "1           1  \"Autauga County, AL\"           1001  \"2000\"      \"2000\"    NaN   \n",
       "2           2  \"Autauga County, AL\"           1001  \"2001\"      \"2001\"    NaN   \n",
       "3           3  \"Autauga County, AL\"           1001  \"2002\"      \"2002\"    NaN   \n",
       "4           4  \"Autauga County, AL\"           1001  \"2003\"      \"2003\"    NaN   \n",
       "\n",
       "  Population Crude Rate Crude Rate Lower 95% Confidence Interval  \\\n",
       "0      42963        NaN                                      NaN   \n",
       "1      43671        NaN                                      NaN   \n",
       "2      44889        NaN                                      NaN   \n",
       "3      45909        NaN                                      NaN   \n",
       "4      46800        NaN                                      NaN   \n",
       "\n",
       "  Crude Rate Upper 95% Confidence Interval Age Adjusted Rate  \\\n",
       "0                                      NaN               NaN   \n",
       "1                                      NaN               NaN   \n",
       "2                                      NaN               NaN   \n",
       "3                                      NaN               NaN   \n",
       "4                                      NaN               NaN   \n",
       "\n",
       "  Age Adjusted Rate Lower 95% Confidence Interval  \\\n",
       "0                                             NaN   \n",
       "1                                             NaN   \n",
       "2                                             NaN   \n",
       "3                                             NaN   \n",
       "4                                             NaN   \n",
       "\n",
       "  Age Adjusted Rate Upper 95% Confidence Interval  \n",
       "0                                             NaN  \n",
       "1                                             NaN  \n",
       "2                                             NaN  \n",
       "3                                             NaN  \n",
       "4                                             NaN  "
      ]
     },
     "execution_count": 6,
     "metadata": {},
     "output_type": "execute_result"
    }
   ],
   "source": [
    "df_full_data.head()"
   ]
  },
  {
   "cell_type": "code",
   "execution_count": 3,
   "metadata": {
    "collapsed": false
   },
   "outputs": [],
   "source": [
    "no_quotes = pd.read_csv('age_adjusted_death_rate_no_quotes.csv')"
   ]
  },
  {
   "cell_type": "code",
   "execution_count": 4,
   "metadata": {
    "collapsed": false
   },
   "outputs": [
    {
     "data": {
      "text/html": [
       "<div>\n",
       "<style scoped>\n",
       "    .dataframe tbody tr th:only-of-type {\n",
       "        vertical-align: middle;\n",
       "    }\n",
       "\n",
       "    .dataframe tbody tr th {\n",
       "        vertical-align: top;\n",
       "    }\n",
       "\n",
       "    .dataframe thead th {\n",
       "        text-align: right;\n",
       "    }\n",
       "</style>\n",
       "<table border=\"1\" class=\"dataframe\">\n",
       "  <thead>\n",
       "    <tr style=\"text-align: right;\">\n",
       "      <th></th>\n",
       "      <th>Unnamed: 0</th>\n",
       "      <th>County</th>\n",
       "      <th>County Code</th>\n",
       "      <th>Year</th>\n",
       "      <th>Year Code</th>\n",
       "      <th>Deaths</th>\n",
       "      <th>Population</th>\n",
       "      <th>Crude Rate</th>\n",
       "      <th>Crude Rate Lower 95% Confidence Interval</th>\n",
       "      <th>Crude Rate Upper 95% Confidence Interval</th>\n",
       "      <th>Age Adjusted Rate</th>\n",
       "      <th>Age Adjusted Rate Lower 95% Confidence Interval</th>\n",
       "      <th>Age Adjusted Rate Upper 95% Confidence Interval</th>\n",
       "    </tr>\n",
       "  </thead>\n",
       "  <tbody>\n",
       "    <tr>\n",
       "      <th>0</th>\n",
       "      <td>Autauga County</td>\n",
       "      <td>AL</td>\n",
       "      <td>1001</td>\n",
       "      <td>1999</td>\n",
       "      <td>1999</td>\n",
       "      <td>NaN</td>\n",
       "      <td>42963</td>\n",
       "      <td>NaN</td>\n",
       "      <td>NaN</td>\n",
       "      <td>NaN</td>\n",
       "      <td>NaN</td>\n",
       "      <td>NaN</td>\n",
       "      <td>NaN</td>\n",
       "    </tr>\n",
       "    <tr>\n",
       "      <th>1</th>\n",
       "      <td>Autauga County</td>\n",
       "      <td>AL</td>\n",
       "      <td>1001</td>\n",
       "      <td>2000</td>\n",
       "      <td>2000</td>\n",
       "      <td>NaN</td>\n",
       "      <td>43671</td>\n",
       "      <td>NaN</td>\n",
       "      <td>NaN</td>\n",
       "      <td>NaN</td>\n",
       "      <td>NaN</td>\n",
       "      <td>NaN</td>\n",
       "      <td>NaN</td>\n",
       "    </tr>\n",
       "    <tr>\n",
       "      <th>2</th>\n",
       "      <td>Autauga County</td>\n",
       "      <td>AL</td>\n",
       "      <td>1001</td>\n",
       "      <td>2001</td>\n",
       "      <td>2001</td>\n",
       "      <td>NaN</td>\n",
       "      <td>44889</td>\n",
       "      <td>NaN</td>\n",
       "      <td>NaN</td>\n",
       "      <td>NaN</td>\n",
       "      <td>NaN</td>\n",
       "      <td>NaN</td>\n",
       "      <td>NaN</td>\n",
       "    </tr>\n",
       "    <tr>\n",
       "      <th>3</th>\n",
       "      <td>Autauga County</td>\n",
       "      <td>AL</td>\n",
       "      <td>1001</td>\n",
       "      <td>2002</td>\n",
       "      <td>2002</td>\n",
       "      <td>NaN</td>\n",
       "      <td>45909</td>\n",
       "      <td>NaN</td>\n",
       "      <td>NaN</td>\n",
       "      <td>NaN</td>\n",
       "      <td>NaN</td>\n",
       "      <td>NaN</td>\n",
       "      <td>NaN</td>\n",
       "    </tr>\n",
       "    <tr>\n",
       "      <th>4</th>\n",
       "      <td>Autauga County</td>\n",
       "      <td>AL</td>\n",
       "      <td>1001</td>\n",
       "      <td>2003</td>\n",
       "      <td>2003</td>\n",
       "      <td>NaN</td>\n",
       "      <td>46800</td>\n",
       "      <td>NaN</td>\n",
       "      <td>NaN</td>\n",
       "      <td>NaN</td>\n",
       "      <td>NaN</td>\n",
       "      <td>NaN</td>\n",
       "      <td>NaN</td>\n",
       "    </tr>\n",
       "  </tbody>\n",
       "</table>\n",
       "</div>"
      ],
      "text/plain": [
       "       Unnamed: 0 County  County Code  Year  Year Code Deaths Population  \\\n",
       "0  Autauga County     AL         1001  1999       1999    NaN      42963   \n",
       "1  Autauga County     AL         1001  2000       2000    NaN      43671   \n",
       "2  Autauga County     AL         1001  2001       2001    NaN      44889   \n",
       "3  Autauga County     AL         1001  2002       2002    NaN      45909   \n",
       "4  Autauga County     AL         1001  2003       2003    NaN      46800   \n",
       "\n",
       "  Crude Rate Crude Rate Lower 95% Confidence Interval  \\\n",
       "0        NaN                                      NaN   \n",
       "1        NaN                                      NaN   \n",
       "2        NaN                                      NaN   \n",
       "3        NaN                                      NaN   \n",
       "4        NaN                                      NaN   \n",
       "\n",
       "  Crude Rate Upper 95% Confidence Interval Age Adjusted Rate  \\\n",
       "0                                      NaN               NaN   \n",
       "1                                      NaN               NaN   \n",
       "2                                      NaN               NaN   \n",
       "3                                      NaN               NaN   \n",
       "4                                      NaN               NaN   \n",
       "\n",
       "  Age Adjusted Rate Lower 95% Confidence Interval  \\\n",
       "0                                             NaN   \n",
       "1                                             NaN   \n",
       "2                                             NaN   \n",
       "3                                             NaN   \n",
       "4                                             NaN   \n",
       "\n",
       "  Age Adjusted Rate Upper 95% Confidence Interval  \n",
       "0                                             NaN  \n",
       "1                                             NaN  \n",
       "2                                             NaN  \n",
       "3                                             NaN  \n",
       "4                                             NaN  "
      ]
     },
     "execution_count": 4,
     "metadata": {},
     "output_type": "execute_result"
    }
   ],
   "source": [
    "no_quotes.head()"
   ]
  },
  {
   "cell_type": "code",
   "execution_count": 7,
   "metadata": {
    "collapsed": false
   },
   "outputs": [
    {
     "data": {
      "text/plain": [
       "Index(['Unnamed: 0', 'County', 'County Code', 'Year', 'Year Code', 'Deaths',\n",
       "       'Population', 'Crude Rate', 'Crude Rate Lower 95% Confidence Interval',\n",
       "       'Crude Rate Upper 95% Confidence Interval', 'Age Adjusted Rate',\n",
       "       'Age Adjusted Rate Lower 95% Confidence Interval',\n",
       "       'Age Adjusted Rate Upper 95% Confidence Interval'],\n",
       "      dtype='object')"
      ]
     },
     "execution_count": 7,
     "metadata": {},
     "output_type": "execute_result"
    }
   ],
   "source": [
    "no_quotes.columns"
   ]
  },
  {
   "cell_type": "code",
   "execution_count": 9,
   "metadata": {
    "collapsed": false
   },
   "outputs": [],
   "source": [
    "import numpy as np"
   ]
  },
  {
   "cell_type": "code",
   "execution_count": 15,
   "metadata": {
    "collapsed": false
   },
   "outputs": [
    {
     "data": {
      "text/plain": [
       "{'0.0': '0.0'}"
      ]
     },
     "execution_count": 15,
     "metadata": {},
     "output_type": "execute_result"
    }
   ],
   "source": [
    "{str(tick): str(tick) for tick in np.linspace(0,0.1,1)}"
   ]
  },
  {
   "cell_type": "code",
   "execution_count": 18,
   "metadata": {
    "collapsed": false
   },
   "outputs": [
    {
     "data": {
      "text/plain": [
       "{'0.0': '0.0',\n",
       " '0.1': '0.1',\n",
       " '0.2': '0.2',\n",
       " '0.3': '0.30000000000000004',\n",
       " '0.4': '0.4',\n",
       " '0.5': '0.5',\n",
       " '0.6': '0.6000000000000001',\n",
       " '0.7': '0.7000000000000001',\n",
       " '0.8': '0.8',\n",
       " '0.9': '0.9',\n",
       " '1.0': '1.0'}"
      ]
     },
     "execution_count": 18,
     "metadata": {},
     "output_type": "execute_result"
    }
   ],
   "source": [
    "{str(tick)[0:3]: str(tick) for tick in np.linspace(0,1,11)}"
   ]
  },
  {
   "cell_type": "code",
   "execution_count": 22,
   "metadata": {
    "collapsed": false
   },
   "outputs": [],
   "source": [
    "deaths_by_fips = no_quotes.groupby('County Code')['Deaths']"
   ]
  },
  {
   "cell_type": "code",
   "execution_count": 35,
   "metadata": {
    "collapsed": false
   },
   "outputs": [],
   "source": [
    "no_quotes['Deaths'] = pd.to_numeric(no_quotes.Deaths, errors='coerce')"
   ]
  },
  {
   "cell_type": "code",
   "execution_count": 38,
   "metadata": {
    "collapsed": false,
    "scrolled": false
   },
   "outputs": [],
   "source": [
    "deaths_by_fips = no_quotes.groupby('County')['Deaths'].sum()"
   ]
  },
  {
   "cell_type": "code",
   "execution_count": 41,
   "metadata": {
    "collapsed": false
   },
   "outputs": [
    {
     "data": {
      "text/plain": [
       "[1276.0,\n",
       " 5927.0,\n",
       " 2700.0,\n",
       " 16023.0,\n",
       " 62895.0,\n",
       " 10436.0,\n",
       " 7950.0,\n",
       " 1622.0,\n",
       " 2132.0,\n",
       " 43878.0,\n",
       " 10448.0,\n",
       " 2147.0,\n",
       " 1499.0,\n",
       " 1604.0,\n",
       " 20508.0,\n",
       " 9912.0,\n",
       " 2680.0,\n",
       " 8568.0,\n",
       " 8539.0,\n",
       " 16720.0,\n",
       " 14460.0,\n",
       " 2118.0,\n",
       " 18497.0,\n",
       " 4477.0,\n",
       " 9824.0,\n",
       " 2158.0,\n",
       " 832.0,\n",
       " 14738.0,\n",
       " 38.0,\n",
       " 992.0,\n",
       " 2827.0,\n",
       " 16183.0,\n",
       " 6189.0,\n",
       " 8027.0,\n",
       " 27530.0,\n",
       " 26909.0,\n",
       " 7023.0,\n",
       " 6279.0,\n",
       " 33245.0,\n",
       " 2916.0,\n",
       " 7448.0,\n",
       " 217.0,\n",
       " 12043.0,\n",
       " 30853.0,\n",
       " 7018.0,\n",
       " 7703.0,\n",
       " 480.0,\n",
       " 14274.0,\n",
       " 7936.0,\n",
       " 5223.0,\n",
       " 375.0]"
      ]
     },
     "execution_count": 41,
     "metadata": {},
     "output_type": "execute_result"
    }
   ],
   "source": [
    "deaths_by_fips.values.tolist()"
   ]
  },
  {
   "cell_type": "code",
   "execution_count": null,
   "metadata": {
    "collapsed": true
   },
   "outputs": [],
   "source": []
  }
 ],
 "metadata": {
  "kernelspec": {
   "display_name": "Python 3",
   "language": "python",
   "name": "python3"
  },
  "language_info": {
   "codemirror_mode": {
    "name": "ipython",
    "version": 3
   },
   "file_extension": ".py",
   "mimetype": "text/x-python",
   "name": "python",
   "nbconvert_exporter": "python",
   "pygments_lexer": "ipython3",
   "version": "3.5.1"
  }
 },
 "nbformat": 4,
 "nbformat_minor": 0
}
